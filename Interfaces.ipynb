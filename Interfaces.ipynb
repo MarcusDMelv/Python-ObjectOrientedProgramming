{
 "cells": [
  {
   "cell_type": "code",
   "execution_count": 6,
   "metadata": {
    "collapsed": false
   },
   "outputs": [
    {
     "name": "stdout",
     "output_type": "stream",
     "text": [
      "Go Code being compile\n",
      "Go Code being executed\n",
      "Java Code being compile\n",
      "Java Code being executed\n"
     ]
    }
   ],
   "source": [
    "# an abstract class but only contains abstract methods - no implementation\n",
    "# no code other than the definition of methods\n",
    "# outline and describe all the methods that anything inherits the interface or implements the interface must implement\n",
    "# interface is not a \"thing\" in Python - no keyword\n",
    "\n",
    "# create a interface\n",
    "class RunCodeInterface:  # each method in interface must raise NotImplementedError()\n",
    "    \n",
    "    def compile_code(self):  # definition of the method\n",
    "        raise NotImplementedError('You must implement compile_code()')\n",
    "        \n",
    "    def execute_code(self):\n",
    "        raise NotImplementedError('You must implement execute_code()')\n",
    "        \n",
    "# implementing interface\n",
    "class GoCode(RunCodeInterface):  # class becomes child to RunInterface\n",
    "    \n",
    "    def compile_code(self):\n",
    "        print('Go Code being compile')\n",
    "        \n",
    "    # all  interfaces methods need to be used\n",
    "    def execute_code(self):\n",
    "        print('Go Code being executed')\n",
    "# implenting interface\n",
    "class JavaCode(RunCodeInterface):\n",
    "    def compile_code(self):\n",
    "        print('Java Code being compile')\n",
    "    def execute_code(self):\n",
    "        print('Java Code being executed')\n",
    "    # able to create other methods\n",
    "    def java_test(self):\n",
    "        print('Testing java')\n",
    "def run_code(code:RunCodeInterface):  # colon after parameter allows to set a datatype\n",
    "    # run the code inside of interface\n",
    "    code.compile_code()\n",
    "    code.execute_code()\n",
    "# create an instance of the classes\n",
    "go = GoCode()\n",
    "java = JavaCode()\n",
    "# run classes -----------\n",
    "run_code(go)  # must run interface\n",
    "run_code(java)"
   ]
  },
  {
   "cell_type": "code",
   "execution_count": 0,
   "metadata": {
    "collapsed": false
   },
   "outputs": [
   ],
   "source": [
   ]
  }
 ],
 "metadata": {
  "kernelspec": {
   "display_name": "Python 3 (system-wide)",
   "language": "python",
   "metadata": {
    "cocalc": {
     "description": "Python 3 programming language",
     "priority": 100,
     "url": "https://www.python.org/"
    }
   },
   "name": "python3",
   "resource_dir": "/ext/jupyter/kernels/python3"
  },
  "language_info": {
   "codemirror_mode": {
    "name": "ipython",
    "version": 3
   },
   "file_extension": ".py",
   "mimetype": "text/x-python",
   "name": "python",
   "nbconvert_exporter": "python",
   "pygments_lexer": "ipython3",
   "version": "3.8.10"
  }
 },
 "nbformat": 4,
 "nbformat_minor": 4
}