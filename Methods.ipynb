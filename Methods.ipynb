{
 "cells": [
  {
   "cell_type": "code",
   "execution_count": 4,
   "metadata": {
    "collapsed": false
   },
   "outputs": [
    {
     "name": "stdout",
     "output_type": "stream",
     "text": [
      "Hello Roger\n",
      "21\n",
      "Hello Susie\n"
     ]
    }
   ],
   "source": [
    "# a method is a function that acts on the instance of a class\n",
    "# unlike functions they can access all the attributes associated with the specific instance\n",
    "\n",
    "class Person:\n",
    "    def __init__(self,name):\n",
    "        self.name = name\n",
    "\n",
    "    # define a function with in a class = method\n",
    "    def say_hello(self):  # all methods require self inside of it\n",
    "        print(f'Hello {self.name}')\n",
    "        \n",
    "    # define another method but add attribute - age\n",
    "    def set_age(self,age):  # setter method - created just to hold an attribute\n",
    "        self.age = age\n",
    "\n",
    "\n",
    "\n",
    "\n",
    "        \n",
    "p1 = Person('Roger')\n",
    "p1.say_hello()  # call the method that is in the same class as the object initiated from\n",
    "p1.set_age(21)  # instance methods act on the instance of the class\n",
    "print(p1.age)\n",
    "\n",
    "p2 = Person('Susie')\n",
    "p2.say_hello()"
   ]
  },
  {
   "cell_type": "code",
   "execution_count": 13,
   "metadata": {
    "collapsed": false
   },
   "outputs": [
    {
     "name": "stdout",
     "output_type": "stream",
     "text": [
      "The current count is 6\n",
      "The current count is 4\n"
     ]
    },
    {
     "ename": "Exception",
     "evalue": "The counter is locked!",
     "output_type": "error",
     "traceback": [
      "\u001b[0;31m---------------------------------------------------------------------------\u001b[0m",
      "\u001b[0;31mException\u001b[0m                                 Traceback (most recent call last)",
      "\u001b[0;32m/tmp/ipykernel_421/3540907857.py\u001b[0m in \u001b[0;36m<cell line: 42>\u001b[0;34m()\u001b[0m\n\u001b[1;32m     40\u001b[0m \u001b[0mcounter\u001b[0m\u001b[0;34m.\u001b[0m\u001b[0mtoggle_lock\u001b[0m\u001b[0;34m(\u001b[0m\u001b[0;34m)\u001b[0m\u001b[0;34m\u001b[0m\u001b[0;34m\u001b[0m\u001b[0m\n\u001b[1;32m     41\u001b[0m \u001b[0mcounter2\u001b[0m\u001b[0;34m.\u001b[0m\u001b[0mplus\u001b[0m\u001b[0;34m(\u001b[0m\u001b[0;34m)\u001b[0m\u001b[0;34m\u001b[0m\u001b[0;34m\u001b[0m\u001b[0m\n\u001b[0;32m---> 42\u001b[0;31m \u001b[0mcounter\u001b[0m\u001b[0;34m.\u001b[0m\u001b[0mplus\u001b[0m\u001b[0;34m(\u001b[0m\u001b[0;34m)\u001b[0m\u001b[0;34m\u001b[0m\u001b[0;34m\u001b[0m\u001b[0m\n\u001b[0m\u001b[1;32m     43\u001b[0m \u001b[0mcounter\u001b[0m\u001b[0;34m.\u001b[0m\u001b[0mminus\u001b[0m\u001b[0;34m(\u001b[0m\u001b[0;34m)\u001b[0m\u001b[0;34m\u001b[0m\u001b[0;34m\u001b[0m\u001b[0m\n\u001b[1;32m     44\u001b[0m \u001b[0mcounter\u001b[0m\u001b[0;34m.\u001b[0m\u001b[0mplus\u001b[0m\u001b[0;34m(\u001b[0m\u001b[0;34m)\u001b[0m\u001b[0;34m\u001b[0m\u001b[0;34m\u001b[0m\u001b[0m\n",
      "\u001b[0;32m/tmp/ipykernel_421/3540907857.py\u001b[0m in \u001b[0;36mplus\u001b[0;34m(self)\u001b[0m\n\u001b[1;32m      9\u001b[0m     \u001b[0;32mdef\u001b[0m \u001b[0mplus\u001b[0m\u001b[0;34m(\u001b[0m\u001b[0mself\u001b[0m\u001b[0;34m)\u001b[0m\u001b[0;34m:\u001b[0m\u001b[0;34m\u001b[0m\u001b[0;34m\u001b[0m\u001b[0m\n\u001b[1;32m     10\u001b[0m         \u001b[0;32mif\u001b[0m \u001b[0mself\u001b[0m\u001b[0;34m.\u001b[0m\u001b[0mlocked\u001b[0m\u001b[0;34m:\u001b[0m\u001b[0;34m\u001b[0m\u001b[0;34m\u001b[0m\u001b[0m\n\u001b[0;32m---> 11\u001b[0;31m             \u001b[0;32mraise\u001b[0m \u001b[0mException\u001b[0m\u001b[0;34m(\u001b[0m\u001b[0;34m'The counter is locked!'\u001b[0m\u001b[0;34m)\u001b[0m\u001b[0;34m\u001b[0m\u001b[0;34m\u001b[0m\u001b[0m\n\u001b[0m\u001b[1;32m     12\u001b[0m         \u001b[0mself\u001b[0m\u001b[0;34m.\u001b[0m\u001b[0mcount\u001b[0m \u001b[0;34m+=\u001b[0m \u001b[0;36m1\u001b[0m\u001b[0;34m\u001b[0m\u001b[0;34m\u001b[0m\u001b[0m\n\u001b[1;32m     13\u001b[0m \u001b[0;34m\u001b[0m\u001b[0m\n",
      "\u001b[0;31mException\u001b[0m: The counter is locked!"
     ]
    }
   ],
   "source": [
    "class Counter:\n",
    "    def __init__(self):\n",
    "        self.count = 0\n",
    "        self.locked = False\n",
    "\n",
    "    def toggle_lock(self):\n",
    "        self.locked = not self.locked\n",
    "\n",
    "    def plus(self):\n",
    "        if self.locked:\n",
    "            raise Exception('The counter is locked!')\n",
    "        self.count += 1\n",
    "\n",
    "    def minus(self):\n",
    "        if self.locked:\n",
    "            raise Exception('The counter is locked!')\n",
    "        self.count -= 1\n",
    "\n",
    "    def print_count(self):\n",
    "        print(f'The current count is {self.count}')\n",
    "\n",
    "        \n",
    "        \n",
    "counter = Counter()\n",
    "counter.plus()\n",
    "counter.plus()\n",
    "counter.plus()\n",
    "counter.plus()\n",
    "counter2 = Counter()\n",
    "counter.plus()\n",
    "counter.minus()\n",
    "counter2.plus()\n",
    "counter2.plus()\n",
    "counter2.plus()\n",
    "counter2.plus()\n",
    "counter2.plus()\n",
    "counter2.plus()\n",
    "counter2.print_count()\n",
    "counter.print_count()\n",
    "counter.toggle_lock()\n",
    "counter2.plus()\n",
    "counter.plus()\n",
    "counter.minus()\n",
    "counter.plus()\n",
    "counter2.print_count()\n",
    "counter.print_count()\n"
   ]
  },
  {
   "cell_type": "markdown",
   "metadata": {
    "collapsed": false
   },
   "source": [
    "--------RANDOM METHODS"
   ]
  },
  {
   "cell_type": "code",
   "execution_count": 79,
   "metadata": {
    "collapsed": false
   },
   "outputs": [
    {
     "name": "stdout",
     "output_type": "stream",
     "text": [
      "[88, 55, 43, 34, 86, 67, 88, 76, 99, 100]\n",
      "Franky Nunez Grade Average: 73\n",
      "Franky Nunez Grade 1: 88\n",
      "Franky Nunez Grade 2: 55\n",
      "Franky Nunez Grade 3: 43\n",
      "Franky Nunez Grade 4: 34\n",
      "Franky Nunez Grade 5: 86\n",
      "Franky Nunez Grade 6: 67\n",
      "Franky Nunez Grade 7: 88\n",
      "Franky Nunez Grade 8: 76\n",
      "Franky Nunez Grade 9: 99\n",
      "Franky Nunez Grade 10: 100\n",
      "Franky Nunez total number of grades: 10\n",
      "Max Grade: 100\n",
      "Lowest Grade: 34\n"
     ]
    }
   ],
   "source": [
    "# grades\n",
    "class Grades:\n",
    "    def __init__(self,name,grades):\n",
    "        self.name = name\n",
    "        self.grades = grades\n",
    "        \n",
    "    def print_grades(self):\n",
    "        print(f'{grades}')\n",
    "\n",
    "     # get the average from the grades\n",
    "    def avg_grades(self):\n",
    "        ovr_grade = 0\n",
    "        for grade in self.grades:\n",
    "            ovr_grade += grade\n",
    "        avg_grade = ovr_grade // len(grades)\n",
    "        print(f'{self.name} Grade Average: {avg_grade}')\n",
    "\n",
    "    # print out all the grades\n",
    "    def total_grades(self):\n",
    "        i = 1\n",
    "        for grade in self.grades:\n",
    "            print(f'{self.name} Grade {i}: {grade}')\n",
    "            i += 1\n",
    "            \n",
    "    def total_num_grades(self):\n",
    "        print(f'{self.name} total number of grades:',len(self.grades))\n",
    "        \n",
    "    def max_and_low(self):\n",
    "        print(f'Max Grade: {max(self.grades)}')\n",
    "        print(f'Lowest Grade: {min(self.grades)}')\n",
    "\n",
    "\n",
    "grades = [88,55,43,34,86,67,88,76,99,100]\n",
    "grade_book1 = Grades('Franky Nunez',grades)\n",
    "grade_book1.print_grades()\n",
    "grade_book1.avg_grades()\n",
    "grade_book1.total_grades()\n",
    "grade_book1.total_num_grades()\n",
    "grade_book1.max_and_low()"
   ]
  },
  {
   "cell_type": "code",
   "execution_count": 0,
   "metadata": {
    "collapsed": false
   },
   "outputs": [
   ],
   "source": [
   ]
  }
 ],
 "metadata": {
  "kernelspec": {
   "display_name": "Python 3 (system-wide)",
   "language": "python",
   "metadata": {
    "cocalc": {
     "description": "Python 3 programming language",
     "priority": 100,
     "url": "https://www.python.org/"
    }
   },
   "name": "python3",
   "resource_dir": "/ext/jupyter/kernels/python3"
  },
  "language_info": {
   "codemirror_mode": {
    "name": "ipython",
    "version": 3
   },
   "file_extension": ".py",
   "mimetype": "text/x-python",
   "name": "python",
   "nbconvert_exporter": "python",
   "pygments_lexer": "ipython3",
   "version": "3.8.10"
  }
 },
 "nbformat": 4,
 "nbformat_minor": 4
}