{
 "cells": [
  {
   "cell_type": "code",
   "execution_count": 33,
   "metadata": {
    "collapsed": false
   },
   "outputs": [
    {
     "name": "stdout",
     "output_type": "stream",
     "text": [
      "****************\n",
      "Hi my name is Data Science\n",
      "My salary is 50000\n",
      "****************\n",
      "****************\n",
      "Hi my name is Lead Data Science\n",
      "My salary is 75000\n",
      "****************\n",
      "Hi my name is CEO Founder\n"
     ]
    }
   ],
   "source": [
    "# Inheritance - allows you to have one class inherit/use the functionality from another class - easier to Debug/Change/Duplicate code\n",
    "# Polymorphism - many forms / treat objects differently based off the context that we are using them in\n",
    "\n",
    "class Person:\n",
    "    def __init__(self,first_name,last_name):\n",
    "        self.first_name = first_name\n",
    "        self.last_name = last_name\n",
    "    def say_hello(self):\n",
    "        print(f'Hi my name is {self.first_name} {self.last_name}')\n",
    "        \n",
    "# inherit from Person - Parent Class/Super Class/Base Class\n",
    "\n",
    "class Employee(Person):  # Employee - Child/Sub Class\n",
    "    \n",
    "        # override say_hello method from Parent class\n",
    "    # override init constructor from Parent Class\n",
    "    def __init__(self,first_name,last_name,salary):\n",
    "        super().__init__(first_name,last_name)  # this is required when overriding a constructor\n",
    "        self.salary = salary\n",
    "\n",
    "    def say_hello(self):  # override say_hello method\n",
    "        print('****'* len(self.first_name))\n",
    "        # super() gives access to the parent class\n",
    "        super().say_hello()  # superimplicity pass self keyword to say_hello\n",
    "        print(f'My salary is {self.salary}')\n",
    "        print('****'* len(self.first_name))\n",
    "\n",
    "class Manager(Employee):\n",
    "    def __init__(self,first_name,last_name,salary,department):\n",
    "        super().__init__(first_name,last_name,salary)\n",
    "        self.department = department\n",
    "\n",
    "class Owner(Person):\n",
    "    def __init__(self,first_name,last_name,net_worth):\n",
    "        super().__init__(first_name,last_name)\n",
    "        self.net_worth = net_worth\n",
    "\n",
    "e = Employee('Data','Science',50000)\n",
    "\n",
    "e.say_hello()\n",
    "\n",
    "m = Manager('Lead', 'Data Science',7500,'Data')\n",
    "m.salary=75000\n",
    "m.say_hello()\n",
    "\n",
    "o = Owner('CEO', 'Founder',500000)\n",
    "o.say_hello()"
   ]
  },
  {
   "cell_type": "code",
   "execution_count": 39,
   "metadata": {
    "collapsed": false
   },
   "outputs": [
    {
     "name": "stdout",
     "output_type": "stream",
     "text": [
      "A\n"
     ]
    }
   ],
   "source": [
    "# Multiple Inheritance\n",
    "\n",
    "class A: \n",
    "    def __init__(self):\n",
    "        print('A')\n",
    "\n",
    "class B:\n",
    "    def __init__(self):\n",
    "        print('B')\n",
    "\n",
    "class C(A,B):  # Both A/B are Parent/Super class\n",
    "    def __init__(self):\n",
    "        super().__init__()\n",
    "        \n",
    "c = C()"
   ]
  },
  {
   "cell_type": "code",
   "execution_count": 41,
   "metadata": {
    "collapsed": false
   },
   "outputs": [
    {
     "name": "stdout",
     "output_type": "stream",
     "text": [
      "Swimming duck\n",
      "Flying duck\n",
      "Swimming duck\n",
      "Flying duck\n",
      "Swimming whale\n"
     ]
    },
    {
     "ename": "AttributeError",
     "evalue": "'Whale' object has no attribute 'fly'",
     "output_type": "error",
     "traceback": [
      "\u001b[0;31m---------------------------------------------------------------------------\u001b[0m",
      "\u001b[0;31mAttributeError\u001b[0m                            Traceback (most recent call last)",
      "\u001b[0;32m/tmp/ipykernel_573/3777646406.py\u001b[0m in \u001b[0;36m<cell line: 15>\u001b[0;34m()\u001b[0m\n\u001b[1;32m     15\u001b[0m \u001b[0;32mfor\u001b[0m \u001b[0manimal\u001b[0m \u001b[0;32min\u001b[0m \u001b[0manimals\u001b[0m\u001b[0;34m:\u001b[0m\u001b[0;34m\u001b[0m\u001b[0;34m\u001b[0m\u001b[0m\n\u001b[1;32m     16\u001b[0m     \u001b[0manimal\u001b[0m\u001b[0;34m.\u001b[0m\u001b[0mswim\u001b[0m\u001b[0;34m(\u001b[0m\u001b[0;34m)\u001b[0m\u001b[0;34m\u001b[0m\u001b[0;34m\u001b[0m\u001b[0m\n\u001b[0;32m---> 17\u001b[0;31m     \u001b[0manimal\u001b[0m\u001b[0;34m.\u001b[0m\u001b[0mfly\u001b[0m\u001b[0;34m(\u001b[0m\u001b[0;34m)\u001b[0m\u001b[0;34m\u001b[0m\u001b[0;34m\u001b[0m\u001b[0m\n\u001b[0m",
      "\u001b[0;31mAttributeError\u001b[0m: 'Whale' object has no attribute 'fly'"
     ]
    }
   ],
   "source": [
    "\n",
    "\n",
    "class Duck:\n",
    "    def swim(self):\n",
    "        print('Swimming duck')\n",
    "    def fly(self):\n",
    "        print('Flying duck')\n",
    "\n",
    "class Whale:\n",
    "    def swim(self):\n",
    "        print('Swimming whale')\n",
    "\n",
    "animals = [Duck(),Duck(),Whale()]\n",
    "\n",
    "for animal in animals:\n",
    "    animal.swim()\n",
    "    animal.fly()"
   ]
  },
  {
   "cell_type": "code",
   "execution_count": 0,
   "metadata": {
    "collapsed": false
   },
   "outputs": [
   ],
   "source": [
   ]
  }
 ],
 "metadata": {
  "kernelspec": {
   "display_name": "Python 3 (system-wide)",
   "language": "python",
   "metadata": {
    "cocalc": {
     "description": "Python 3 programming language",
     "priority": 100,
     "url": "https://www.python.org/"
    }
   },
   "name": "python3",
   "resource_dir": "/ext/jupyter/kernels/python3"
  },
  "language_info": {
   "codemirror_mode": {
    "name": "ipython",
    "version": 3
   },
   "file_extension": ".py",
   "mimetype": "text/x-python",
   "name": "python",
   "nbconvert_exporter": "python",
   "pygments_lexer": "ipython3",
   "version": "3.8.10"
  }
 },
 "nbformat": 4,
 "nbformat_minor": 4
}