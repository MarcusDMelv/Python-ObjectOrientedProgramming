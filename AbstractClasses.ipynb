{
 "cells": [
  {
   "cell_type": "code",
   "execution_count": 15,
   "metadata": {
    "cocalc": {
     "outputs": {
      "0": {
       "name": "input",
       "opts": {
        "password": false,
        "prompt": " Would you like to play?"
       },
       "output_type": "stream",
       "value": "yes"
      },
      "2": {
       "name": "input",
       "opts": {
        "password": false,
        "prompt": "Enter a number between 1-10: "
       },
       "output_type": "stream",
       "value": "3"
      },
      "4": {
       "name": "input",
       "opts": {
        "password": false,
        "prompt": "Enter a number between 1-10: "
       },
       "output_type": "stream",
       "value": "5"
      },
      "6": {
       "name": "input",
       "opts": {
        "password": false,
        "prompt": "Enter a number between 1-10: "
       },
       "output_type": "stream",
       "value": "4"
      },
      "7": {
       "name": "input",
       "opts": {
        "password": false,
        "prompt": "Enter a number between 1-10: "
       },
       "output_type": "stream"
      },
      "9": {
       "name": "input",
       "opts": {
        "password": false,
        "prompt": "Enter a number between 1-10: "
       },
       "output_type": "stream"
      }
     }
    },
    "collapsed": false
   },
   "outputs": [
    {
     "name": "stdout",
     "output_type": "stream",
     "text": " Would you like to play? yes"
    },
    {
     "name": "stdout",
     "output_type": "stream",
     "text": [
      " Welcome to round: 1! Lets begin!\n"
     ]
    },
    {
     "name": "stdout",
     "output_type": "stream",
     "text": "Enter a number between 1-10:  3"
    },
    {
     "name": "stdout",
     "output_type": "stream",
     "text": [
      "4\n"
     ]
    },
    {
     "name": "stdout",
     "output_type": "stream",
     "text": "Enter a number between 1-10:  5"
    },
    {
     "name": "stdout",
     "output_type": "stream",
     "text": [
      "4\n"
     ]
    },
    {
     "name": "stdout",
     "output_type": "stream",
     "text": "Enter a number between 1-10:  4"
    },
    {
     "name": "stdout",
     "output_type": "stream",
     "text": "Enter a number between 1-10:  "
    },
    {
     "name": "stdout",
     "output_type": "stream",
     "text": [
      "You got it\n",
      " Welcome to round: 2! Lets begin!\n"
     ],
     "value": "5"
    },
    {
     "name": "stdout",
     "output_type": "stream",
     "text": "Enter a number between 1-10:  "
    },
    {
     "name": "stdout",
     "output_type": "stream",
     "text": [
      "7\n"
     ],
     "value": "7"
    },
    {
     "name": "stdout",
     "output_type": "stream",
     "text": [
      "You got it\n"
     ]
    },
    {
     "ename": "TypeError",
     "evalue": "end() takes 0 positional arguments but 1 was given",
     "output_type": "error",
     "traceback": [
      "\u001b[0;31m---------------------------------------------------------------------------\u001b[0m",
      "\u001b[0;31mTypeError\u001b[0m                                 Traceback (most recent call last)",
      "\u001b[0;32m/tmp/ipykernel_824/1110936041.py\u001b[0m in \u001b[0;36m<cell line: 51>\u001b[0;34m()\u001b[0m\n\u001b[1;32m     49\u001b[0m \u001b[0mgame\u001b[0m \u001b[0;34m=\u001b[0m \u001b[0mRandomGuesser\u001b[0m\u001b[0;34m(\u001b[0m\u001b[0;36m2\u001b[0m\u001b[0;34m)\u001b[0m\u001b[0;34m\u001b[0m\u001b[0;34m\u001b[0m\u001b[0m\n\u001b[1;32m     50\u001b[0m \u001b[0;34m\u001b[0m\u001b[0m\n\u001b[0;32m---> 51\u001b[0;31m \u001b[0mgame\u001b[0m\u001b[0;34m.\u001b[0m\u001b[0mstart\u001b[0m\u001b[0;34m(\u001b[0m\u001b[0;34m)\u001b[0m\u001b[0;34m\u001b[0m\u001b[0;34m\u001b[0m\u001b[0m\n\u001b[0m",
      "\u001b[0;32m/tmp/ipykernel_824/1110936041.py\u001b[0m in \u001b[0;36mstart\u001b[0;34m(self)\u001b[0m\n\u001b[1;32m     10\u001b[0m             \u001b[0;32mif\u001b[0m \u001b[0mstart\u001b[0m\u001b[0;34m.\u001b[0m\u001b[0mlower\u001b[0m\u001b[0;34m(\u001b[0m\u001b[0;34m)\u001b[0m\u001b[0;34m==\u001b[0m \u001b[0;34m'yes'\u001b[0m\u001b[0;34m:\u001b[0m\u001b[0;34m\u001b[0m\u001b[0;34m\u001b[0m\u001b[0m\n\u001b[1;32m     11\u001b[0m                 \u001b[0;32mbreak\u001b[0m\u001b[0;34m\u001b[0m\u001b[0;34m\u001b[0m\u001b[0m\n\u001b[0;32m---> 12\u001b[0;31m         \u001b[0mself\u001b[0m\u001b[0;34m.\u001b[0m\u001b[0mplay\u001b[0m\u001b[0;34m(\u001b[0m\u001b[0;34m)\u001b[0m\u001b[0;34m\u001b[0m\u001b[0;34m\u001b[0m\u001b[0m\n\u001b[0m\u001b[1;32m     13\u001b[0m \u001b[0;34m\u001b[0m\u001b[0m\n\u001b[1;32m     14\u001b[0m     \u001b[0;32mdef\u001b[0m \u001b[0mend\u001b[0m\u001b[0;34m(\u001b[0m\u001b[0;34m)\u001b[0m\u001b[0;34m:\u001b[0m\u001b[0;34m\u001b[0m\u001b[0;34m\u001b[0m\u001b[0m\n",
      "\u001b[0;32m/tmp/ipykernel_824/1110936041.py\u001b[0m in \u001b[0;36mplay\u001b[0;34m(self)\u001b[0m\n\u001b[1;32m     45\u001b[0m                     \u001b[0mprint\u001b[0m\u001b[0;34m(\u001b[0m\u001b[0mrandom_num\u001b[0m\u001b[0;34m)\u001b[0m\u001b[0;34m\u001b[0m\u001b[0;34m\u001b[0m\u001b[0m\n\u001b[1;32m     46\u001b[0m \u001b[0;34m\u001b[0m\u001b[0m\n\u001b[0;32m---> 47\u001b[0;31m         \u001b[0mself\u001b[0m\u001b[0;34m.\u001b[0m\u001b[0mend\u001b[0m\u001b[0;34m(\u001b[0m\u001b[0;34m)\u001b[0m\u001b[0;34m\u001b[0m\u001b[0;34m\u001b[0m\u001b[0m\n\u001b[0m\u001b[1;32m     48\u001b[0m \u001b[0;34m\u001b[0m\u001b[0m\n\u001b[1;32m     49\u001b[0m \u001b[0mgame\u001b[0m \u001b[0;34m=\u001b[0m \u001b[0mRandomGuesser\u001b[0m\u001b[0;34m(\u001b[0m\u001b[0;36m2\u001b[0m\u001b[0;34m)\u001b[0m\u001b[0;34m\u001b[0m\u001b[0;34m\u001b[0m\u001b[0m\n",
      "\u001b[0;31mTypeError\u001b[0m: end() takes 0 positional arguments but 1 was given"
     ]
    }
   ],
   "source": [
    "##### a class meant to act as a Parent class\n",
    "# contain common details to common classes\n",
    "\n",
    "# make an abstract class\n",
    "import random\n",
    "class AbstractGame:\n",
    "    def start(self):\n",
    "        while True:\n",
    "            start = input(' Would you like to play?')\n",
    "            if start.lower()== 'yes':\n",
    "                break\n",
    "        self.play()\n",
    "        \n",
    "    def end():\n",
    "        print('The game has ended.')\n",
    "        self.reset()\n",
    "        \n",
    "    def play(self):\n",
    "        raise NotImplementedError('You must provide an implementation for play()')\n",
    "        \n",
    "    def reset(self):\n",
    "        raise NotImplementedError('You must provide an implementation for reset()')\n",
    "        \n",
    "        \n",
    "class RandomGuesser(AbstractGame):\n",
    "    def __init__(self,rounds):\n",
    "        self.rounds = rounds\n",
    "        self.round = 0\n",
    "        \n",
    "    def reset(self,rounds):\n",
    "        self.round = 0\n",
    "        \n",
    "    def play(self):\n",
    "        while self.round < self.rounds:\n",
    "            self.round += 1 \n",
    "            \n",
    "            print(f' Welcome to round: {self.round}! Lets begin!')\n",
    "            random_num = random.randint(0,10)\n",
    "            while True:\n",
    "                guess = input(\"Enter a number between 1-10: \")\n",
    "                if int(guess) == random_num:\n",
    "                    print(\"You got it\")\n",
    "                    break\n",
    "                else:\n",
    "                    print(random_num)\n",
    "                    \n",
    "        self.end()\n",
    "        \n",
    "game = RandomGuesser(2)\n",
    "\n",
    "game.start()\n"
   ]
  },
  {
   "cell_type": "code",
   "execution_count": 0,
   "metadata": {
    "collapsed": false
   },
   "outputs": [
   ],
   "source": [
   ]
  },
  {
   "cell_type": "code",
   "execution_count": 0,
   "metadata": {
    "collapsed": false
   },
   "outputs": [
   ],
   "source": [
   ]
  }
 ],
 "metadata": {
  "kernelspec": {
   "display_name": "Python 3 (system-wide)",
   "language": "python",
   "metadata": {
    "cocalc": {
     "description": "Python 3 programming language",
     "priority": 100,
     "url": "https://www.python.org/"
    }
   },
   "name": "python3",
   "resource_dir": "/ext/jupyter/kernels/python3"
  },
  "language_info": {
   "codemirror_mode": {
    "name": "ipython",
    "version": 3
   },
   "file_extension": ".py",
   "mimetype": "text/x-python",
   "name": "python",
   "nbconvert_exporter": "python",
   "pygments_lexer": "ipython3",
   "version": "3.8.10"
  }
 },
 "nbformat": 4,
 "nbformat_minor": 4
}