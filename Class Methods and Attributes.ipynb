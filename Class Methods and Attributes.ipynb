{
 "cells": [
  {
   "cell_type": "code",
   "execution_count": 12,
   "metadata": {
    "collapsed": false
   },
   "outputs": [
    {
     "name": "stdout",
     "output_type": "stream",
     "text": [
      "0\n",
      "run\n",
      "12\n",
      "Fusion\n"
     ]
    }
   ],
   "source": [
    "# Class attributes and methods different from instance methods and attributes because they act on the class itself not the instance\n",
    "# Class attributes and methods specfic to the class - does not have access to the instances\n",
    "# once we use 'self' it is related to the instance\n",
    "# Class attributes are put above all the methods\n",
    "# anything that is the same for all instances you will put as a class attribute\n",
    "class Car: \n",
    "    # any change to this attribute will apply to all the instances\n",
    "    number_of_cars = 0 # this is a class attribute because it is in the class and not prefix with self\n",
    "    wheels = 4\n",
    "    \n",
    "    def __init__(self,make,model):  # instance attribute/method\n",
    "        self.make = make\n",
    "        self.model = model\n",
    "        Car.number_of_cars += 1  # accessing the Class attribute - Everytime an instance is created will add 1 ( inventory)\n",
    "        \n",
    "    # Creating a Class Method\n",
    "    @classmethod  # decorator - telling us its an class method\n",
    "    def update_number_of_cars(cls,cars):  # cls stands for the nameof the class / cars is the parameter\n",
    "        cls.number_of_cars = cars  # grabbing class attribute to equal parameter\n",
    "        print('run')\n",
    "        \n",
    "# access the class attribute with out creating an instance\n",
    "print(Car.number_of_cars)\n",
    "Car.update_number_of_cars(10)\n",
    "# from the instances you can access Class attributes -- # not perferred\n",
    "c1 = Car('Ford','Fusion')\n",
    "c2 = Car('Dodge','Challenger')\n",
    "print(c1.number_of_cars)  # print total of instances that was created\n",
    "print(c1.model)"
   ]
  },
  {
   "cell_type": "code",
   "execution_count": 16,
   "metadata": {
    "collapsed": false
   },
   "outputs": [
    {
     "name": "stdout",
     "output_type": "stream",
     "text": [
      "12.56\n",
      "31.400000000000002\n",
      "(314.0, 62.800000000000004)\n"
     ]
    }
   ],
   "source": [
    "class Circle:\n",
    "    pi = 3.14\n",
    "    \n",
    "    @classmethod  # decorator\n",
    "    def area(cls,radius):  # radius as a parameter\n",
    "        return cls.pi * (radius ** 2)  # pi times radius exponent 2\n",
    "    @classmethod\n",
    "    def perimeter(cls,radius):\n",
    "        return 2 * cls.pi * radius\n",
    "    \n",
    "    @classmethod\n",
    "    def get_area_and_perimeter(cls,radius):\n",
    "        return cls.area(radius), cls.perimeter(radius)\n",
    "    \n",
    "print(Circle.area(2))\n",
    "print(Circle.perimeter(5))\n",
    "print(Circle.get_area_and_perimeter(10))"
   ]
  },
  {
   "cell_type": "code",
   "execution_count": 0,
   "metadata": {
    "collapsed": false
   },
   "outputs": [
   ],
   "source": [
   ]
  }
 ],
 "metadata": {
  "kernelspec": {
   "display_name": "Python 3 (system-wide)",
   "language": "python",
   "metadata": {
    "cocalc": {
     "description": "Python 3 programming language",
     "priority": 100,
     "url": "https://www.python.org/"
    }
   },
   "name": "python3",
   "resource_dir": "/ext/jupyter/kernels/python3"
  },
  "language_info": {
   "codemirror_mode": {
    "name": "ipython",
    "version": 3
   },
   "file_extension": ".py",
   "mimetype": "text/x-python",
   "name": "python",
   "nbconvert_exporter": "python",
   "pygments_lexer": "ipython3",
   "version": "3.8.10"
  }
 },
 "nbformat": 4,
 "nbformat_minor": 4
}