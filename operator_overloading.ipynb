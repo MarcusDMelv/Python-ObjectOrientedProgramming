{
 "cells": [
  {
   "cell_type": "code",
   "execution_count": 2,
   "metadata": {
    "collapsed": false
   },
   "outputs": [
    {
     "name": "stdout",
     "output_type": "stream",
     "text": [
      "Johnny Long Legs : another page out the book 3\n"
     ]
    }
   ],
   "source": [
    "# ability to implement custom operations on our own class\n",
    "\n",
    "# overload addition operation\n",
    "class Page:\n",
    "    def __init__(self,word:str,page_num:int):\n",
    "        self.word = word\n",
    "        self.page_num = page_num\n",
    "    # magic method for adding - we want to add the pages str and then add a page number\n",
    "    def __add__(self,other):  # dunder method for addition\n",
    "        new_words = self.word +\" : \"+ other.word\n",
    "        new_page_num = max(self.page_num,other.page_num) + 1\n",
    "        return Page(new_words,new_page_num)\n",
    "    \n",
    "\n",
    "page1 = Page('Johnny Long Legs', 1)\n",
    "page2 = Page('another page out the book',2)\n",
    "# -- using custom addition operator\n",
    "page3 = page1 + page2\n",
    "print(page3.word,page3.page_num)"
   ]
  },
  {
   "cell_type": "code",
   "execution_count": 2,
   "metadata": {
    "collapsed": false
   },
   "outputs": [
    {
     "name": "stdout",
     "output_type": "stream",
     "text": [
      "Before taxes: $1.5\n",
      "After Taxes: $1.69\n",
      "Taxes: $0.19\n"
     ]
    }
   ],
   "source": [
    "# overload subtraction and multiplication operation\n",
    "import math\n",
    "class StoreItem:\n",
    "    TAX = 0.13\n",
    "    \n",
    "    def __init__(self,name,price):\n",
    "        self.name = name\n",
    "        self.price = float(price)\n",
    "        self.after_tax_price = 0\n",
    "        self.set_after_tax_price()\n",
    "        \n",
    "    def set_after_tax_price(self):\n",
    "        self.after_tax_price = round(self.price * (1+ self.TAX),2)\n",
    "     \n",
    "    def __sub__(self,discount):  # dunder method for subtraction\n",
    "        # when using subtract operator return name and price - discount\n",
    "        return StoreItem(self.name,self.price - discount)\n",
    "    \n",
    "    def __mul__(self,value):  # dunder method for multipliction\n",
    "        return StoreItem(self.name,self.price * value)\n",
    "\n",
    "    def __len__(self):\n",
    "       pass\n",
    "# able to subtract / give discounted price\n",
    "bread = StoreItem('Bread',6)\n",
    "discounted_bread = bread * 0.5\n",
    "discounted_bread = discounted_bread * 0.5\n",
    "taxes = discounted_bread.after_tax_price - discounted_bread.price\n",
    "taxes = round(taxes,2)\n",
    "print(f'Before taxes: ${discounted_bread.price}')\n",
    "print(f'After Taxes: ${discounted_bread.after_tax_price}')\n",
    "print(f'Taxes: ${taxes}')\n",
    "\n"
   ]
  },
  {
   "cell_type": "code",
   "execution_count": 9,
   "metadata": {
    "collapsed": false
   },
   "outputs": [
    {
     "name": "stdout",
     "output_type": "stream",
     "text": [
      "(2, 1) (5, 2)\n",
      "False\n"
     ]
    }
   ],
   "source": [
    "class Line:\n",
    "    def __init__(self,point1,point2):\n",
    "        self.point1 = point1\n",
    "        self.point2 = point2\n",
    "        \n",
    "    def __truediv__(self,factor):  # regular division /\n",
    "        new_point1 = (self.point1[0] / factor, self.point1[1]/factor)\n",
    "        new_point2 = (self.point2[0] / factor, self.point2[1]/factor)\n",
    "        return Line(new_point1, new_point2)\n",
    "    \n",
    "    def __floordiv__(self,factor):  #  integer division //\n",
    "        new_point1 = (self.point1[0] // factor, self.point1[1]//factor)\n",
    "        new_point2 = (self.point2[0] // factor, self.point2[1]//factor)\n",
    "        return Line(new_point1, new_point2)\n",
    "    \n",
    "     # dunder equality Compairson \n",
    "    def __eq__(self,other):\n",
    "        if not isinstance(other,Line):\n",
    "            return False\n",
    "        return self.point1 == other.point1 and self.point2 == other.point2\n",
    "    \n",
    "    def __ne__(self,other):\n",
    "        return not self.__eq__(other)\n",
    "    def __gt__(self,other) # great then\n",
    "    def __ge__(self,other) # greater then or equal to\n",
    "    def __lt__(self,other) # less then\n",
    "    def __le__(self,other) # less then or equal to\n",
    "line1 = Line((10,5),(20,10))\n",
    "line3 = Line((10,5),(20,10))\n",
    "line2 = line1 // 4\n",
    "print(line2.point1, line2.point2)\n",
    "print(line1 == line3)"
   ]
  },
  {
   "cell_type": "code",
   "execution_count": 0,
   "metadata": {
    "collapsed": false
   },
   "outputs": [
   ],
   "source": [
   ]
  },
  {
   "cell_type": "code",
   "execution_count": 0,
   "metadata": {
    "collapsed": false
   },
   "outputs": [
   ],
   "source": [
   ]
  },
  {
   "cell_type": "code",
   "execution_count": 0,
   "metadata": {
    "collapsed": false
   },
   "outputs": [
   ],
   "source": [
   ]
  }
 ],
 "metadata": {
  "kernelspec": {
   "display_name": "Python 3 (system-wide)",
   "language": "python",
   "metadata": {
    "cocalc": {
     "description": "Python 3 programming language",
     "priority": 100,
     "url": "https://www.python.org/"
    }
   },
   "name": "python3",
   "resource_dir": "/ext/jupyter/kernels/python3"
  },
  "language_info": {
   "codemirror_mode": {
    "name": "ipython",
    "version": 3
   },
   "file_extension": ".py",
   "mimetype": "text/x-python",
   "name": "python",
   "nbconvert_exporter": "python",
   "pygments_lexer": "ipython3",
   "version": "3.8.10"
  }
 },
 "nbformat": 4,
 "nbformat_minor": 4
}