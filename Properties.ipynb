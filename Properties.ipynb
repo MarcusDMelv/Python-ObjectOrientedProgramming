{
 "cells": [
  {
   "cell_type": "code",
   "execution_count": 12,
   "metadata": {
    "collapsed": false
   },
   "outputs": [
    {
     "name": "stdout",
     "output_type": "stream",
     "text": [
      "100\n"
     ]
    }
   ],
   "source": [
    "# special attributes that we can have on our instances and on our classes- \n",
    "# to enforce specific behavior when accessing or modifiying an attribute\n",
    "class Person:\n",
    "    def __init__(self,name):\n",
    "        # public attribute can be accessed and modified outside of the class\n",
    "        self.name = name\n",
    "        # private attribute has a underscore before the name - an attribute that can only be accessed and modified inside class\n",
    "        self._salary = 0\n",
    "\n",
    "    # New and perferred way to creating a property\n",
    "    # using a decorator\n",
    "    # return salary\n",
    "    @property # must name the setter and getter the same\n",
    "    def salary(self):\n",
    "        return round(self._salary)  # this is the getter\n",
    "\n",
    "    # salary is private so create a setter for it\n",
    "    @salary.setter  # salary setter\n",
    "    def salary(self,salary):\n",
    "        if salary < 0:\n",
    "            raise ValueError('This is invalid')\n",
    "        self._salary = salary\n",
    "\n",
    "\n",
    "    # Legacy way to create a propery - combines the setter and the getter together\n",
    "    # salary = property(get_salary,set_salary)  # first input the getter then the setter\n",
    "\n",
    "p1 = Person('Timmy')\n",
    "p1.salary = 100.234\n",
    "print(p1.salary)\n"
   ]
  },
  {
   "cell_type": "code",
   "execution_count": 19,
   "metadata": {
    "collapsed": false
   },
   "outputs": [
    {
     "name": "stdout",
     "output_type": "stream",
     "text": [
      "run\n",
      "59\n"
     ]
    }
   ],
   "source": [
    "class Time:\n",
    "    def __init__(self,second):\n",
    "        self._second = second  # private attribute\n",
    "        \n",
    "    @property  \n",
    "    def second(self):\n",
    "        print('run')\n",
    "        return self._second\n",
    "    \n",
    "    @second.setter\n",
    "    def second(self,second):\n",
    "        if second < 0 or second > 60:\n",
    "            raise ValueError('Invalid!')\n",
    "        self._second = second\n",
    "        \n",
    "t = Time(54)\n",
    "t.second = 59\n",
    "print(t.second)"
   ]
  },
  {
   "cell_type": "code",
   "execution_count": 0,
   "metadata": {
    "collapsed": false
   },
   "outputs": [
   ],
   "source": [
   ]
  }
 ],
 "metadata": {
  "kernelspec": {
   "display_name": "Python 3 (system-wide)",
   "language": "python",
   "metadata": {
    "cocalc": {
     "description": "Python 3 programming language",
     "priority": 100,
     "url": "https://www.python.org/"
    }
   },
   "name": "python3",
   "resource_dir": "/ext/jupyter/kernels/python3"
  },
  "language_info": {
   "codemirror_mode": {
    "name": "ipython",
    "version": 3
   },
   "file_extension": ".py",
   "mimetype": "text/x-python",
   "name": "python",
   "nbconvert_exporter": "python",
   "pygments_lexer": "ipython3",
   "version": "3.8.10"
  }
 },
 "nbformat": 4,
 "nbformat_minor": 4
}