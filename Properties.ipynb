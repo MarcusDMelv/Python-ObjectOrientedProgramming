{
 "cells": [
  {
   "cell_type": "code",
   "execution_count": 34,
   "metadata": {
    "collapsed": false
   },
   "outputs": [
    {
     "name": "stdout",
     "output_type": "stream",
     "text": [
      "100\n"
     ]
    }
   ],
   "source": [
    "# special attributes that we can have on our instances and on our classes\n",
    "# to enforce specific behavior when accessing or modifying  an attribute\n",
    "class Person:\n",
    "    def __init__(self,name):\n",
    "        # public attribute can be accessed and modified outside of the class\n",
    "        self.name = name\n",
    "        # private attribute has a underscore before the name - an attribute that can only be accessed and modified inside class\n",
    "        self._salary = 0\n",
    "\n",
    "    # New and perferred way to creating a property\n",
    "    # using a decorator\n",
    "    # return salary\n",
    "    @property # must name the setter and getter the same\n",
    "    def salary(self):\n",
    "        return round(self._salary)  # this is the getter\n",
    "\n",
    "    # salary is private so create a setter for it\n",
    "    @salary.setter  # salary setter\n",
    "    def salary(self,salary):\n",
    "        if salary < 0:\n",
    "            raise ValueError('This is invalid')\n",
    "        self._salary = salary\n",
    "\n",
    "\n",
    "    # Legacy way to create a property - combines the setter and the getter together\n",
    "    # salary = property(get_salary,set_salary)  # first input the getter then the setter\n",
    "\n",
    "p1 = Person('Timmy')\n",
    "p1.salary = 100.234\n",
    "print(p1.salary)\n"
   ]
  },
  {
   "cell_type": "code",
   "execution_count": 19,
   "metadata": {
    "collapsed": false
   },
   "outputs": [
    {
     "name": "stdout",
     "output_type": "stream",
     "text": [
      "run\n",
      "59\n"
     ]
    }
   ],
   "source": [
    "class Time:\n",
    "    def __init__(self,second):\n",
    "        self._second = second  # private attribute\n",
    "        \n",
    "    @property  \n",
    "    def second(self):\n",
    "        print('run')\n",
    "        return self._second\n",
    "    \n",
    "    @second.setter\n",
    "    def second(self,second):\n",
    "        if second < 0 or second > 60:\n",
    "            raise ValueError('Invalid!')\n",
    "        self._second = second\n",
    "        \n",
    "t = Time(54)\n",
    "t.second = 59\n",
    "print(t.second)"
   ]
  },
  {
   "cell_type": "code",
   "execution_count": 16,
   "metadata": {
    "collapsed": false
   },
   "outputs": [
    {
     "name": "stdout",
     "output_type": "stream",
     "text": [
      "wedfdf\n"
     ]
    }
   ],
   "source": [
    "# practicing properties\n",
    "class Account:\n",
    "    def __init__(self,username):\n",
    "        self.username = username\n",
    "        self._password = None  # pvt attribute\n",
    "    @property  # a getter\n",
    "    def password(self):\n",
    "        return self._password\n",
    "\n",
    "    @password.setter\n",
    "    def password(self,password):\n",
    "    # I dont want the password to have more then 2 numbers\n",
    "        if len(password) <= 5:\n",
    "            raise ExceptionError(\"Password length is to short! Please have more then five characters\")\n",
    "        # set attribute\n",
    "        self._password = password\n",
    "    \n",
    "account2 = Account('LarryGrove')\n",
    "account2.password = 'wedfdf'\n",
    "print(account2.password)"
   ]
  },
  {
   "cell_type": "code",
   "execution_count": 32,
   "metadata": {
    "collapsed": false
   },
   "outputs": [
    {
     "ename": "AttributeError",
     "evalue": "Enter Correct Social Security Number",
     "output_type": "error",
     "traceback": [
      "\u001b[0;31m---------------------------------------------------------------------------\u001b[0m",
      "\u001b[0;31mAttributeError\u001b[0m                            Traceback (most recent call last)",
      "\u001b[0;32m/tmp/ipykernel_1210/2442502145.py\u001b[0m in \u001b[0;36m<cell line: 21>\u001b[0;34m()\u001b[0m\n\u001b[1;32m     19\u001b[0m \u001b[0;34m\u001b[0m\u001b[0m\n\u001b[1;32m     20\u001b[0m \u001b[0maccount1\u001b[0m \u001b[0;34m=\u001b[0m \u001b[0mPrivateFile\u001b[0m\u001b[0;34m(\u001b[0m\u001b[0;34m'Kevin'\u001b[0m\u001b[0;34m)\u001b[0m\u001b[0;34m\u001b[0m\u001b[0;34m\u001b[0m\u001b[0m\n\u001b[0;32m---> 21\u001b[0;31m \u001b[0maccount1\u001b[0m\u001b[0;34m.\u001b[0m\u001b[0mssn\u001b[0m \u001b[0;34m=\u001b[0m \u001b[0;34m'5F4556'\u001b[0m\u001b[0;34m\u001b[0m\u001b[0;34m\u001b[0m\u001b[0m\n\u001b[0m\u001b[1;32m     22\u001b[0m \u001b[0mprint\u001b[0m\u001b[0;34m(\u001b[0m\u001b[0maccount1\u001b[0m\u001b[0;34m.\u001b[0m\u001b[0mssn\u001b[0m\u001b[0;34m)\u001b[0m\u001b[0;34m\u001b[0m\u001b[0;34m\u001b[0m\u001b[0m\n",
      "\u001b[0;32m/tmp/ipykernel_1210/2442502145.py\u001b[0m in \u001b[0;36mssn\u001b[0;34m(self, ssn)\u001b[0m\n\u001b[1;32m     14\u001b[0m \u001b[0;34m\u001b[0m\u001b[0m\n\u001b[1;32m     15\u001b[0m         \u001b[0;32mif\u001b[0m \u001b[0mssn\u001b[0m\u001b[0;34m.\u001b[0m\u001b[0misdigit\u001b[0m\u001b[0;34m(\u001b[0m\u001b[0;34m)\u001b[0m \u001b[0;34m==\u001b[0m \u001b[0;32mFalse\u001b[0m\u001b[0;34m:\u001b[0m\u001b[0;34m\u001b[0m\u001b[0;34m\u001b[0m\u001b[0m\n\u001b[0;32m---> 16\u001b[0;31m             \u001b[0;32mraise\u001b[0m \u001b[0mAttributeError\u001b[0m\u001b[0;34m(\u001b[0m\u001b[0;34m'Enter Correct Social Security Number'\u001b[0m\u001b[0;34m)\u001b[0m\u001b[0;34m\u001b[0m\u001b[0;34m\u001b[0m\u001b[0m\n\u001b[0m\u001b[1;32m     17\u001b[0m         \u001b[0mself\u001b[0m\u001b[0;34m.\u001b[0m\u001b[0m_ssn\u001b[0m \u001b[0;34m=\u001b[0m \u001b[0mssn\u001b[0m\u001b[0;34m\u001b[0m\u001b[0;34m\u001b[0m\u001b[0m\n\u001b[1;32m     18\u001b[0m \u001b[0;34m\u001b[0m\u001b[0m\n",
      "\u001b[0;31mAttributeError\u001b[0m: Enter Correct Social Security Number"
     ]
    }
   ],
   "source": [
    "# practicing properties\n",
    "\n",
    "# make ssn private\n",
    "class PrivateFile:\n",
    "    def __init__(self,name):\n",
    "        self.name = name\n",
    "        self._ssn = None # private attribute\n",
    "    #establish getter/setter for ssn\n",
    "    @property\n",
    "    def ssn(self):\n",
    "        return self._ssn\n",
    "    @ssn.setter\n",
    "    def ssn(self,ssn):\n",
    "        # ssn should only have digits\n",
    "        if ssn.isdigit() == False:\n",
    "            raise AttributeError('Enter Correct Social Security Number Please')\n",
    "        self._ssn = ssn\n",
    "      \n",
    "    \n",
    "account1 = PrivateFile('Kevin')\n",
    "account1.ssn = '5F4556'\n",
    "print(account1.ssn)"
   ]
  }
 ],
 "metadata": {
  "kernelspec": {
   "display_name": "Python 3 (system-wide)",
   "language": "python",
   "metadata": {
    "cocalc": {
     "description": "Python 3 programming language",
     "priority": 100,
     "url": "https://www.python.org/"
    }
   },
   "name": "python3",
   "resource_dir": "/ext/jupyter/kernels/python3"
  },
  "language_info": {
   "codemirror_mode": {
    "name": "ipython",
    "version": 3
   },
   "file_extension": ".py",
   "mimetype": "text/x-python",
   "name": "python",
   "nbconvert_exporter": "python",
   "pygments_lexer": "ipython3",
   "version": "3.8.10"
  }
 },
 "nbformat": 4,
 "nbformat_minor": 4
}