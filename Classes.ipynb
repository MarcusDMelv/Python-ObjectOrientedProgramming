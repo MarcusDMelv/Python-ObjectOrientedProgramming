{
 "cells": [
  {
   "cell_type": "code",
   "execution_count": 12,
   "metadata": {
    "collapsed": false
   },
   "outputs": [
    {
     "name": "stdout",
     "output_type": "stream",
     "text": [
      "ran 2\n",
      "ran 3\n",
      "<__main__.Person object at 0x7ff837614370>\n",
      "<__main__.Person object at 0x7ff8376146a0>\n"
     ]
    }
   ],
   "source": [
    "# class acts as a blueprint for all the instances of that type\n",
    "# all data types are just classes\n",
    "# keyword to define a class is 'class'\n",
    "# name of title should be PascalCase\n",
    "\n",
    "class Person:  # created a new data type\n",
    "    # take some parameters that would be required when intiating the object using the class\n",
    "    def __init__(self,x):  # special method that is called on an instance of a class\n",
    "        print('ran',x)\n",
    "\n",
    "# creating a Person object\n",
    "\n",
    "p1 = Person(2)  # fill in the value for parameter x\n",
    "p2 = Person(3)\n",
    "print(p1)\n",
    "print(p2)"
   ]
  },
  {
   "cell_type": "code",
   "execution_count": 17,
   "metadata": {
    "collapsed": false
   },
   "outputs": [
    {
     "name": "stdout",
     "output_type": "stream",
     "text": [
      "Tommy 41\n"
     ]
    }
   ],
   "source": [
    "# attributes - data associated with the instance of an object\n",
    "# self is an parameter that needs to be in all the methods especally init method - it reference to the instance of the class\n",
    "class NewPerson:\n",
    "    def __init__(self,name,age):  # whenever an instance of this class is created will need add attribute name\n",
    "        self.name = name  # store attribute and label it\n",
    "        self.age = age  # store attribute and label it\n",
    "        \n",
    "p1 = NewPerson('Tommy',41)\n",
    "p2 = NewPerson('Billy',22)\n",
    "print(p1.name,p1.age)  # print the attributes of the object"
   ]
  },
  {
   "cell_type": "code",
   "execution_count": 20,
   "metadata": {
    "collapsed": false
   },
   "outputs": [
    {
     "name": "stdout",
     "output_type": "stream",
     "text": [
      "random\n",
      "Larry\n"
     ]
    }
   ],
   "source": [
    "# modify attributes outside of the class and create new attributes\n",
    "# self is the keyword access to the instance its self\n",
    "\n",
    "p1.new = 'random'  # created a new attribute called and gave it a value\n",
    "print(p1.new)\n",
    "\n",
    "p1.name = 'Larry'  # modified objects attribute\n",
    "print(p1.name)"
   ]
  },
  {
   "cell_type": "code",
   "execution_count": 31,
   "metadata": {
    "collapsed": false
   },
   "outputs": [
    {
     "name": "stdout",
     "output_type": "stream",
     "text": [
      "apples has 110 calories in it!\n",
      "\n",
      "peaches has 220 calories in it!\n",
      "\n",
      "grapes has 330 calories in it!\n",
      "\n",
      "apples 90 red\n"
     ]
    }
   ],
   "source": [
    "class Fruit:\n",
    "    def __init__(self,name,cal):  # added two attributes\n",
    "        self.name = name  # store name attribute in variable name\n",
    "        self.cal = cal  # store cal attribute in variable cal\n",
    "        print(f'{name} has {cal} calories in it!\\n')\n",
    "        \n",
    "apples = Fruit('apples',110)\n",
    "peaches = Fruit('peaches',220)\n",
    "grapes = Fruit('grapes',330)\n",
    "\n",
    "# add attribute outside of class\n",
    "apples.color = 'red'\n",
    "# modify existing attribute\n",
    "apples.cal = 90\n",
    "print(apples.name,apples.cal,apples.color)\n"
   ]
  },
  {
   "cell_type": "code",
   "execution_count": 0,
   "metadata": {
    "collapsed": false
   },
   "outputs": [
   ],
   "source": [
    "# purpose of classes - define or store common behavior between instances\n"
   ]
  }
 ],
 "metadata": {
  "kernelspec": {
   "display_name": "Python 3 (system-wide)",
   "language": "python",
   "metadata": {
    "cocalc": {
     "description": "Python 3 programming language",
     "priority": 100,
     "url": "https://www.python.org/"
    }
   },
   "name": "python3",
   "resource_dir": "/ext/jupyter/kernels/python3"
  },
  "language_info": {
   "codemirror_mode": {
    "name": "ipython",
    "version": 3
   },
   "file_extension": ".py",
   "mimetype": "text/x-python",
   "name": "python",
   "nbconvert_exporter": "python",
   "pygments_lexer": "ipython3",
   "version": "3.8.10"
  }
 },
 "nbformat": 4,
 "nbformat_minor": 4
}