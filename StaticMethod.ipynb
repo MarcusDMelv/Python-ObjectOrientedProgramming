{
 "cells": [
  {
   "cell_type": "code",
   "execution_count": 4,
   "metadata": {
    "collapsed": false
   },
   "outputs": [
    {
     "name": "stdout",
     "output_type": "stream",
     "text": [
      "57.5\n"
     ]
    }
   ],
   "source": [
    "# A static Method - A method that sits inside of a class but does not have access to the cls keyword or self keyword\n",
    "# It does not act on the class or an instance of the class\n",
    "# A function that belongs to the class\n",
    "\n",
    "class Student:\n",
    "    num_of_students = 0 # static and class attributes are the same in python\n",
    "    grade_bump = 2.0\n",
    "    \n",
    "    def __init__(self,name,grades = []):\n",
    "        self.name = name\n",
    "        self.grades = grades\n",
    "        \n",
    "    def average(self):\n",
    "        return sum(self.grades / len(self.grades))\n",
    "        \n",
    "    @classmethod\n",
    "    def average_from_grades_plus_bump(cls,grades):\n",
    "        average = cls.average_from_grades(grades)\n",
    "        return min(average + grade_bump, 100)\n",
    "    \n",
    "    @staticmethod  # use the decorator to indicate static method - should not have any outside attributes\n",
    "    def avg_from_grades(grades):\n",
    "        return sum(grades)/len(grades)\n",
    "\n",
    "        \n",
    "        \n",
    "s1 = Student('Tim',[80,75,65,100])\n",
    "s2 = Student('Charles',[50,55,65,60])\n",
    "average = s2.avg_from_grades(s2.grades)\n",
    "print(average)\n"
   ]
  },
  {
   "cell_type": "code",
   "execution_count": 0,
   "metadata": {
    "collapsed": false
   },
   "outputs": [
   ],
   "source": [
   ]
  }
 ],
 "metadata": {
  "kernelspec": {
   "display_name": "Python 3 (system-wide)",
   "language": "python",
   "metadata": {
    "cocalc": {
     "description": "Python 3 programming language",
     "priority": 100,
     "url": "https://www.python.org/"
    }
   },
   "name": "python3",
   "resource_dir": "/ext/jupyter/kernels/python3"
  },
  "language_info": {
   "codemirror_mode": {
    "name": "ipython",
    "version": 3
   },
   "file_extension": ".py",
   "mimetype": "text/x-python",
   "name": "python",
   "nbconvert_exporter": "python",
   "pygments_lexer": "ipython3",
   "version": "3.8.10"
  }
 },
 "nbformat": 4,
 "nbformat_minor": 4
}